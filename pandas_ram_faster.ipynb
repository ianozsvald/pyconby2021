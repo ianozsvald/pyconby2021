{
 "cells": [
  {
   "cell_type": "markdown",
   "metadata": {},
   "source": [
    "# TO EXPLAIN\n",
    "\n",
    "Data source https://www.gov.uk/government/statistical-data-sets/price-paid-data-downloads"
   ]
  },
  {
   "cell_type": "code",
   "execution_count": 1,
   "metadata": {},
   "outputs": [],
   "source": [
    "from config import *\n",
    "import pandas as pd\n",
    "import numpy as np"
   ]
  },
  {
   "cell_type": "code",
   "execution_count": 2,
   "metadata": {},
   "outputs": [
    {
     "name": "stdout",
     "output_type": "stream",
     "text": [
      "Variable       Type      Data/Info\n",
      "----------------------------------\n",
      "COLUMNS        list      n=16\n",
      "PICKLE         str       /home/ian/data/land_regis<...>pp-complete-202103.pickle\n",
      "PICKLE_PROT4   str       /home/ian/data/land_regis<...>plete-202103-prot4.pickle\n",
      "RAW_DATA       str       /home/ian/data/land_regis<...>03/pp-complete-202103.csv\n",
      "ROOT           str       /home/ian/data/land_registry/202103\n",
      "np             module    <module 'numpy' from '/ho<...>kages/numpy/__init__.py'>\n",
      "os             module    <module 'os' from '/home/<...>021/lib/python3.8/os.py'>\n",
      "pd             module    <module 'pandas' from '/h<...>ages/pandas/__init__.py'>\n"
     ]
    }
   ],
   "source": [
    "whos"
   ]
  },
  {
   "cell_type": "code",
   "execution_count": 3,
   "metadata": {},
   "outputs": [],
   "source": [
    "#df = pd.read_csv(DATA_CSV) # 132 sec\n",
    "df = pd.read_pickle(PICKLE) # 30 sec"
   ]
  },
  {
   "cell_type": "code",
   "execution_count": 4,
   "metadata": {},
   "outputs": [
    {
     "name": "stdout",
     "output_type": "stream",
     "text": [
      "<class 'pandas.core.frame.DataFrame'>\n",
      "RangeIndex: 25836876 entries, 0 to 25836875\n",
      "Data columns (total 16 columns):\n",
      " #   Column    Dtype         \n",
      "---  ------    -----         \n",
      " 0   tin       object        \n",
      " 1   price     int64         \n",
      " 2   date      datetime64[ns]\n",
      " 3   postcode  object        \n",
      " 4   pt        object        \n",
      " 5   new       object        \n",
      " 6   duration  object        \n",
      " 7   paon      object        \n",
      " 8   saon      object        \n",
      " 9   street    object        \n",
      " 10  locality  object        \n",
      " 11  town      object        \n",
      " 12  district  object        \n",
      " 13  county    object        \n",
      " 14  ppd_cat   object        \n",
      " 15  status    object        \n",
      "dtypes: datetime64[ns](1), int64(1), object(14)\n",
      "memory usage: 3.1+ GB\n"
     ]
    }
   ],
   "source": [
    "df.info()"
   ]
  },
  {
   "cell_type": "code",
   "execution_count": 5,
   "metadata": {},
   "outputs": [
    {
     "name": "stdout",
     "output_type": "stream",
     "text": [
      "<class 'pandas.core.frame.DataFrame'>\n",
      "RangeIndex: 25836876 entries, 0 to 25836875\n",
      "Data columns (total 16 columns):\n",
      " #   Column    Dtype         \n",
      "---  ------    -----         \n",
      " 0   tin       object        \n",
      " 1   price     int64         \n",
      " 2   date      datetime64[ns]\n",
      " 3   postcode  object        \n",
      " 4   pt        object        \n",
      " 5   new       object        \n",
      " 6   duration  object        \n",
      " 7   paon      object        \n",
      " 8   saon      object        \n",
      " 9   street    object        \n",
      " 10  locality  object        \n",
      " 11  town      object        \n",
      " 12  district  object        \n",
      " 13  county    object        \n",
      " 14  ppd_cat   object        \n",
      " 15  status    object        \n",
      "dtypes: datetime64[ns](1), int64(1), object(14)\n",
      "memory usage: 21.4 GB\n"
     ]
    }
   ],
   "source": [
    "df.info(memory_usage=\"deep\")"
   ]
  },
  {
   "cell_type": "code",
   "execution_count": 6,
   "metadata": {},
   "outputs": [
    {
     "data": {
      "text/html": [
       "<div>\n",
       "<style scoped>\n",
       "    .dataframe tbody tr th:only-of-type {\n",
       "        vertical-align: middle;\n",
       "    }\n",
       "\n",
       "    .dataframe tbody tr th {\n",
       "        vertical-align: top;\n",
       "    }\n",
       "\n",
       "    .dataframe thead th {\n",
       "        text-align: right;\n",
       "    }\n",
       "</style>\n",
       "<table border=\"1\" class=\"dataframe\">\n",
       "  <thead>\n",
       "    <tr style=\"text-align: right;\">\n",
       "      <th></th>\n",
       "      <th>tin</th>\n",
       "      <th>price</th>\n",
       "      <th>date</th>\n",
       "      <th>postcode</th>\n",
       "      <th>pt</th>\n",
       "      <th>new</th>\n",
       "      <th>duration</th>\n",
       "      <th>paon</th>\n",
       "      <th>saon</th>\n",
       "      <th>street</th>\n",
       "      <th>locality</th>\n",
       "      <th>town</th>\n",
       "      <th>district</th>\n",
       "      <th>county</th>\n",
       "      <th>ppd_cat</th>\n",
       "      <th>status</th>\n",
       "    </tr>\n",
       "  </thead>\n",
       "  <tbody>\n",
       "    <tr>\n",
       "      <th>0</th>\n",
       "      <td>{A42E2F04-2538-4A25-94C5-49E29C6C8FA8}</td>\n",
       "      <td>18500</td>\n",
       "      <td>1995-01-31</td>\n",
       "      <td>TQ1 1RY</td>\n",
       "      <td>F</td>\n",
       "      <td>N</td>\n",
       "      <td>L</td>\n",
       "      <td>VILLA PARADISO</td>\n",
       "      <td>FLAT 10</td>\n",
       "      <td>HIGHER WARBERRY ROAD</td>\n",
       "      <td>TORQUAY</td>\n",
       "      <td>TORQUAY</td>\n",
       "      <td>TORBAY</td>\n",
       "      <td>TORBAY</td>\n",
       "      <td>A</td>\n",
       "      <td>A</td>\n",
       "    </tr>\n",
       "    <tr>\n",
       "      <th>1</th>\n",
       "      <td>{1BA349E3-2579-40D6-999E-49E2A25D2284}</td>\n",
       "      <td>73450</td>\n",
       "      <td>1995-10-09</td>\n",
       "      <td>L26 7XJ</td>\n",
       "      <td>D</td>\n",
       "      <td>Y</td>\n",
       "      <td>F</td>\n",
       "      <td>6</td>\n",
       "      <td>NaN</td>\n",
       "      <td>CATKIN ROAD</td>\n",
       "      <td>LIVERPOOL</td>\n",
       "      <td>LIVERPOOL</td>\n",
       "      <td>KNOWSLEY</td>\n",
       "      <td>MERSEYSIDE</td>\n",
       "      <td>A</td>\n",
       "      <td>A</td>\n",
       "    </tr>\n",
       "    <tr>\n",
       "      <th>2</th>\n",
       "      <td>{E5B50DCB-BC7A-4E54-B167-49E2A6B4148B}</td>\n",
       "      <td>59000</td>\n",
       "      <td>1995-03-31</td>\n",
       "      <td>BH12 2AE</td>\n",
       "      <td>D</td>\n",
       "      <td>N</td>\n",
       "      <td>F</td>\n",
       "      <td>28</td>\n",
       "      <td>NaN</td>\n",
       "      <td>ALDER ROAD</td>\n",
       "      <td>POOLE</td>\n",
       "      <td>POOLE</td>\n",
       "      <td>POOLE</td>\n",
       "      <td>POOLE</td>\n",
       "      <td>A</td>\n",
       "      <td>A</td>\n",
       "    </tr>\n",
       "    <tr>\n",
       "      <th>3</th>\n",
       "      <td>{81E50116-D675-4B7F-9F8D-49E2B5D43271}</td>\n",
       "      <td>31000</td>\n",
       "      <td>1995-12-04</td>\n",
       "      <td>IP13 0DR</td>\n",
       "      <td>D</td>\n",
       "      <td>Y</td>\n",
       "      <td>F</td>\n",
       "      <td>NONSUCH COTTAGE</td>\n",
       "      <td>NaN</td>\n",
       "      <td>THE STREET</td>\n",
       "      <td>HACHESTON</td>\n",
       "      <td>WOODBRIDGE</td>\n",
       "      <td>SUFFOLK COASTAL</td>\n",
       "      <td>SUFFOLK</td>\n",
       "      <td>A</td>\n",
       "      <td>A</td>\n",
       "    </tr>\n",
       "    <tr>\n",
       "      <th>4</th>\n",
       "      <td>{B97455B9-75CB-40BB-A615-42C53683E143}</td>\n",
       "      <td>95000</td>\n",
       "      <td>1995-09-22</td>\n",
       "      <td>WS14 0BE</td>\n",
       "      <td>D</td>\n",
       "      <td>N</td>\n",
       "      <td>F</td>\n",
       "      <td>FOX COVER COTTAGE</td>\n",
       "      <td>NaN</td>\n",
       "      <td>HALL LANE</td>\n",
       "      <td>LICHFIELD</td>\n",
       "      <td>LICHFIELD</td>\n",
       "      <td>LICHFIELD</td>\n",
       "      <td>STAFFORDSHIRE</td>\n",
       "      <td>A</td>\n",
       "      <td>A</td>\n",
       "    </tr>\n",
       "  </tbody>\n",
       "</table>\n",
       "</div>"
      ],
      "text/plain": [
       "                                      tin  price       date  postcode pt new  \\\n",
       "0  {A42E2F04-2538-4A25-94C5-49E29C6C8FA8}  18500 1995-01-31   TQ1 1RY  F   N   \n",
       "1  {1BA349E3-2579-40D6-999E-49E2A25D2284}  73450 1995-10-09   L26 7XJ  D   Y   \n",
       "2  {E5B50DCB-BC7A-4E54-B167-49E2A6B4148B}  59000 1995-03-31  BH12 2AE  D   N   \n",
       "3  {81E50116-D675-4B7F-9F8D-49E2B5D43271}  31000 1995-12-04  IP13 0DR  D   Y   \n",
       "4  {B97455B9-75CB-40BB-A615-42C53683E143}  95000 1995-09-22  WS14 0BE  D   N   \n",
       "\n",
       "  duration               paon     saon                street   locality  \\\n",
       "0        L     VILLA PARADISO  FLAT 10  HIGHER WARBERRY ROAD    TORQUAY   \n",
       "1        F                  6      NaN           CATKIN ROAD  LIVERPOOL   \n",
       "2        F                 28      NaN            ALDER ROAD      POOLE   \n",
       "3        F    NONSUCH COTTAGE      NaN            THE STREET  HACHESTON   \n",
       "4        F  FOX COVER COTTAGE      NaN             HALL LANE  LICHFIELD   \n",
       "\n",
       "         town         district         county ppd_cat status  \n",
       "0     TORQUAY           TORBAY         TORBAY       A      A  \n",
       "1   LIVERPOOL         KNOWSLEY     MERSEYSIDE       A      A  \n",
       "2       POOLE            POOLE          POOLE       A      A  \n",
       "3  WOODBRIDGE  SUFFOLK COASTAL        SUFFOLK       A      A  \n",
       "4   LICHFIELD        LICHFIELD  STAFFORDSHIRE       A      A  "
      ]
     },
     "execution_count": 6,
     "metadata": {},
     "output_type": "execute_result"
    }
   ],
   "source": [
    "df.head()"
   ]
  },
  {
   "cell_type": "code",
   "execution_count": 7,
   "metadata": {},
   "outputs": [
    {
     "data": {
      "text/plain": [
       "count    2.583688e+07\n",
       "mean     2.016602e+05\n",
       "std      7.838686e+05\n",
       "min      1.000000e+00\n",
       "25%      8.000000e+04\n",
       "50%      1.400000e+05\n",
       "75%      2.310000e+05\n",
       "max      5.943000e+08\n",
       "Name: price, dtype: float64"
      ]
     },
     "execution_count": 7,
     "metadata": {},
     "output_type": "execute_result"
    }
   ],
   "source": [
    "df.price.describe()"
   ]
  },
  {
   "cell_type": "markdown",
   "metadata": {},
   "source": [
    "# What if we change dtypes?"
   ]
  },
  {
   "cell_type": "code",
   "execution_count": 8,
   "metadata": {},
   "outputs": [
    {
     "data": {
      "text/html": [
       "<div>\n",
       "<style scoped>\n",
       "    .dataframe tbody tr th:only-of-type {\n",
       "        vertical-align: middle;\n",
       "    }\n",
       "\n",
       "    .dataframe tbody tr th {\n",
       "        vertical-align: top;\n",
       "    }\n",
       "\n",
       "    .dataframe thead th {\n",
       "        text-align: right;\n",
       "    }\n",
       "</style>\n",
       "<table border=\"1\" class=\"dataframe\">\n",
       "  <thead>\n",
       "    <tr style=\"text-align: right;\">\n",
       "      <th></th>\n",
       "      <th>county</th>\n",
       "      <th>pt</th>\n",
       "      <th>date</th>\n",
       "      <th>price</th>\n",
       "    </tr>\n",
       "  </thead>\n",
       "  <tbody>\n",
       "    <tr>\n",
       "      <th>0</th>\n",
       "      <td>TORBAY</td>\n",
       "      <td>F</td>\n",
       "      <td>1995-01-31</td>\n",
       "      <td>18500</td>\n",
       "    </tr>\n",
       "    <tr>\n",
       "      <th>1</th>\n",
       "      <td>MERSEYSIDE</td>\n",
       "      <td>D</td>\n",
       "      <td>1995-10-09</td>\n",
       "      <td>73450</td>\n",
       "    </tr>\n",
       "    <tr>\n",
       "      <th>2</th>\n",
       "      <td>POOLE</td>\n",
       "      <td>D</td>\n",
       "      <td>1995-03-31</td>\n",
       "      <td>59000</td>\n",
       "    </tr>\n",
       "    <tr>\n",
       "      <th>3</th>\n",
       "      <td>SUFFOLK</td>\n",
       "      <td>D</td>\n",
       "      <td>1995-12-04</td>\n",
       "      <td>31000</td>\n",
       "    </tr>\n",
       "    <tr>\n",
       "      <th>4</th>\n",
       "      <td>STAFFORDSHIRE</td>\n",
       "      <td>D</td>\n",
       "      <td>1995-09-22</td>\n",
       "      <td>95000</td>\n",
       "    </tr>\n",
       "  </tbody>\n",
       "</table>\n",
       "</div>"
      ],
      "text/plain": [
       "          county pt       date  price\n",
       "0         TORBAY  F 1995-01-31  18500\n",
       "1     MERSEYSIDE  D 1995-10-09  73450\n",
       "2          POOLE  D 1995-03-31  59000\n",
       "3        SUFFOLK  D 1995-12-04  31000\n",
       "4  STAFFORDSHIRE  D 1995-09-22  95000"
      ]
     },
     "execution_count": 8,
     "metadata": {},
     "output_type": "execute_result"
    }
   ],
   "source": [
    "df_few_cols = df[['county', 'pt', 'date', 'price']]\n",
    "df_few_cols.head()"
   ]
  },
  {
   "cell_type": "code",
   "execution_count": 9,
   "metadata": {},
   "outputs": [
    {
     "name": "stdout",
     "output_type": "stream",
     "text": [
      "<class 'pandas.core.frame.DataFrame'>\n",
      "RangeIndex: 25836876 entries, 0 to 25836875\n",
      "Data columns (total 4 columns):\n",
      " #   Column  Dtype         \n",
      "---  ------  -----         \n",
      " 0   county  object        \n",
      " 1   pt      object        \n",
      " 2   date    datetime64[ns]\n",
      " 3   price   int64         \n",
      "dtypes: datetime64[ns](1), int64(1), object(2)\n",
      "memory usage: 788.5+ MB\n"
     ]
    }
   ],
   "source": [
    "df_few_cols.info()"
   ]
  },
  {
   "cell_type": "code",
   "execution_count": 10,
   "metadata": {},
   "outputs": [
    {
     "name": "stdout",
     "output_type": "stream",
     "text": [
      "<class 'pandas.core.frame.DataFrame'>\n",
      "RangeIndex: 25836876 entries, 0 to 25836875\n",
      "Data columns (total 4 columns):\n",
      " #   Column  Dtype         \n",
      "---  ------  -----         \n",
      " 0   county  object        \n",
      " 1   pt      object        \n",
      " 2   date    datetime64[ns]\n",
      " 3   price   int64         \n",
      "dtypes: datetime64[ns](1), int64(1), object(2)\n",
      "memory usage: 3.4 GB\n"
     ]
    }
   ],
   "source": [
    "df_few_cols.info(memory_usage=\"deep\")"
   ]
  },
  {
   "cell_type": "code",
   "execution_count": 11,
   "metadata": {},
   "outputs": [
    {
     "name": "stdout",
     "output_type": "stream",
     "text": [
      "New dataframe has shape (25836876, 4)\n"
     ]
    },
    {
     "data": {
      "text/plain": [
       "county    206695008\n",
       "pt        206695008\n",
       "date      206695008\n",
       "price     206695008\n",
       "dtype: int64"
      ]
     },
     "execution_count": 11,
     "metadata": {},
     "output_type": "execute_result"
    }
   ],
   "source": [
    "#df_few_cols = df[['county', 'pt', 'date', 'price']]\n",
    "print(f\"New dataframe has shape {df_few_cols.shape}\")\n",
    "# string columns are mis-represented with deep=True)\n",
    "df_few_cols.memory_usage(index=False)"
   ]
  },
  {
   "cell_type": "code",
   "execution_count": 12,
   "metadata": {},
   "outputs": [
    {
     "data": {
      "text/plain": [
       "True"
      ]
     },
     "execution_count": 12,
     "metadata": {},
     "output_type": "execute_result"
    }
   ],
   "source": [
    "25836876 * 8 == 206695008 # 8 bytes"
   ]
  },
  {
   "cell_type": "code",
   "execution_count": 13,
   "metadata": {},
   "outputs": [
    {
     "name": "stdout",
     "output_type": "stream",
     "text": [
      "<class 'pandas.core.frame.DataFrame'>\n",
      "RangeIndex: 25836876 entries, 0 to 25836875\n",
      "Data columns (total 4 columns):\n",
      " #   Column  Dtype         \n",
      "---  ------  -----         \n",
      " 0   county  object        \n",
      " 1   pt      object        \n",
      " 2   date    datetime64[ns]\n",
      " 3   price   int64         \n",
      "dtypes: datetime64[ns](1), int64(1), object(2)\n",
      "memory usage: 788.5+ MB\n"
     ]
    }
   ],
   "source": [
    "df_few_cols.info()"
   ]
  },
  {
   "cell_type": "code",
   "execution_count": 14,
   "metadata": {},
   "outputs": [
    {
     "data": {
      "text/plain": [
       "(dtype('O'), dtype('<M8[ns]'), dtype('int64'))"
      ]
     },
     "execution_count": 14,
     "metadata": {},
     "output_type": "execute_result"
    }
   ],
   "source": [
    "np.dtype('datetime64[ns]') == np.dtype('<M8[ns]') # 8byte datetime\n",
    "df_few_cols.pt.dtype, df_few_cols.date.dtype, df_few_cols.price.dtype, "
   ]
  },
  {
   "cell_type": "code",
   "execution_count": 15,
   "metadata": {},
   "outputs": [],
   "source": [
    "df_slimmer_cols = pd.DataFrame({'county_cat': df_few_cols.county.astype('category'),\n",
    "                                'pt_cat': df_few_cols.pt.astype('category'),\n",
    "                                'date_cat': df_few_cols.date.astype('category'),\n",
    "                                'price_i32': df_few_cols.price.astype('int32')})"
   ]
  },
  {
   "cell_type": "code",
   "execution_count": 16,
   "metadata": {},
   "outputs": [],
   "source": [
    "# TIP check when doing conversions that nothing is lost\n",
    "assert (df_slimmer_cols['price_i32'] == df_few_cols['price']).all() \\\n",
    ", \"Expecting all items to have exactly the same value\""
   ]
  },
  {
   "cell_type": "code",
   "execution_count": 17,
   "metadata": {},
   "outputs": [
    {
     "data": {
      "text/plain": [
       "county_cat     51686761\n",
       "pt_cat         25837338\n",
       "date_cat       52014088\n",
       "price_i32     103347504\n",
       "dtype: int64"
      ]
     },
     "execution_count": 17,
     "metadata": {},
     "output_type": "execute_result"
    }
   ],
   "source": [
    "# ask for deep=True to get the true string cost\n",
    "df_slimmer_cols.memory_usage(deep=True, index=False)"
   ]
  },
  {
   "cell_type": "code",
   "execution_count": 18,
   "metadata": {},
   "outputs": [
    {
     "name": "stdout",
     "output_type": "stream",
     "text": [
      "<class 'pandas.core.frame.DataFrame'>\n",
      "RangeIndex: 25836876 entries, 0 to 25836875\n",
      "Data columns (total 4 columns):\n",
      " #   Column      Dtype   \n",
      "---  ------      -----   \n",
      " 0   county_cat  category\n",
      " 1   pt_cat      category\n",
      " 2   date_cat    category\n",
      " 3   price_i32   int32   \n",
      "dtypes: category(3), int32(1)\n",
      "memory usage: 222.1 MB\n"
     ]
    }
   ],
   "source": [
    "df_slimmer_cols.info(memory_usage=True)"
   ]
  },
  {
   "cell_type": "code",
   "execution_count": 19,
   "metadata": {},
   "outputs": [
    {
     "data": {
      "text/plain": [
       "county_cat     51678944\n",
       "pt_cat         25837088\n",
       "date_cat       52014088\n",
       "price_i32     103347504\n",
       "dtype: int64"
      ]
     },
     "execution_count": 19,
     "metadata": {},
     "output_type": "execute_result"
    }
   ],
   "source": [
    "assert (df_slimmer_cols.date_cat == df_few_cols.date).all()\n",
    "assert (df_slimmer_cols.county_cat == df_few_cols.county).all()\n",
    "assert (df_slimmer_cols.pt_cat == df_few_cols.pt).all()\n",
    "assert (df_slimmer_cols.price_i32 == df_few_cols.price).all()\n",
    "\n",
    "df_slimmer_cols.memory_usage(index=False)"
   ]
  },
  {
   "cell_type": "code",
   "execution_count": 20,
   "metadata": {},
   "outputs": [
    {
     "name": "stdout",
     "output_type": "stream",
     "text": [
      "<class 'pandas.core.frame.DataFrame'>\n",
      "RangeIndex: 25836876 entries, 0 to 25836875\n",
      "Data columns (total 4 columns):\n",
      " #   Column      Dtype   \n",
      "---  ------      -----   \n",
      " 0   county_cat  category\n",
      " 1   pt_cat      category\n",
      " 2   date_cat    category\n",
      " 3   price_i32   int32   \n",
      "dtypes: category(3), int32(1)\n",
      "memory usage: 222.1 MB\n"
     ]
    }
   ],
   "source": [
    "df_slimmer_cols.info(memory_usage=\"deep\")"
   ]
  },
  {
   "cell_type": "code",
   "execution_count": 21,
   "metadata": {},
   "outputs": [],
   "source": [
    "assert df_few_cols.pt.isna().any() == False, \"Expecting no NaN here\""
   ]
  },
  {
   "cell_type": "code",
   "execution_count": 22,
   "metadata": {},
   "outputs": [
    {
     "name": "stdout",
     "output_type": "stream",
     "text": [
      "CPU times: user 2.59 s, sys: 29.2 ms, total: 2.62 s\n",
      "Wall time: 2.59 s\n"
     ]
    },
    {
     "data": {
      "text/plain": [
       "T    7807661\n",
       "S    7095005\n",
       "D    5951662\n",
       "F    4659506\n",
       "O     323042\n",
       "Name: pt, dtype: int64"
      ]
     },
     "execution_count": 22,
     "metadata": {},
     "output_type": "execute_result"
    }
   ],
   "source": [
    "%time df_few_cols.pt.value_counts()"
   ]
  },
  {
   "cell_type": "code",
   "execution_count": 23,
   "metadata": {},
   "outputs": [
    {
     "name": "stdout",
     "output_type": "stream",
     "text": [
      "CPU times: user 118 ms, sys: 32.2 ms, total: 150 ms\n",
      "Wall time: 148 ms\n"
     ]
    },
    {
     "data": {
      "text/plain": [
       "T    7807661\n",
       "S    7095005\n",
       "D    5951662\n",
       "F    4659506\n",
       "O     323042\n",
       "Name: pt_cat, dtype: int64"
      ]
     },
     "execution_count": 23,
     "metadata": {},
     "output_type": "execute_result"
    }
   ],
   "source": [
    "%time df_slimmer_cols.pt_cat.value_counts()"
   ]
  },
  {
   "cell_type": "code",
   "execution_count": 24,
   "metadata": {},
   "outputs": [],
   "source": [
    "#%time df_few_cols.groupby('pt').size().sort_values(ascending=False)"
   ]
  },
  {
   "cell_type": "code",
   "execution_count": 25,
   "metadata": {},
   "outputs": [
    {
     "name": "stdout",
     "output_type": "stream",
     "text": [
      "CPU times: user 179 ms, sys: 56.4 ms, total: 235 ms\n",
      "Wall time: 239 ms\n"
     ]
    },
    {
     "data": {
      "text/plain": [
       "pt_cat\n",
       "T    7807661\n",
       "S    7095005\n",
       "D    5951662\n",
       "F    4659506\n",
       "O     323042\n",
       "dtype: int64"
      ]
     },
     "execution_count": 25,
     "metadata": {},
     "output_type": "execute_result"
    }
   ],
   "source": [
    "%time df_slimmer_cols.groupby('pt_cat').size().sort_values(ascending=False)"
   ]
  },
  {
   "cell_type": "code",
   "execution_count": 26,
   "metadata": {},
   "outputs": [
    {
     "data": {
      "text/plain": [
       "['__annotations__',\n",
       " '__class__',\n",
       " '__delattr__',\n",
       " '__dict__',\n",
       " '__dir__',\n",
       " '__doc__',\n",
       " '__eq__',\n",
       " '__format__',\n",
       " '__frozen',\n",
       " '__ge__',\n",
       " '__getattribute__',\n",
       " '__gt__',\n",
       " '__hash__',\n",
       " '__init__',\n",
       " '__init_subclass__',\n",
       " '__le__',\n",
       " '__lt__',\n",
       " '__module__',\n",
       " '__ne__',\n",
       " '__new__',\n",
       " '__reduce__',\n",
       " '__reduce_ex__',\n",
       " '__repr__',\n",
       " '__setattr__',\n",
       " '__sizeof__',\n",
       " '__str__',\n",
       " '__subclasshook__',\n",
       " '__weakref__',\n",
       " '_accessors',\n",
       " '_add_delegate_accessors',\n",
       " '_constructor',\n",
       " '_delegate_method',\n",
       " '_delegate_property_get',\n",
       " '_delegate_property_set',\n",
       " '_dir_additions',\n",
       " '_dir_deletions',\n",
       " '_freeze',\n",
       " '_hidden_attrs',\n",
       " '_index',\n",
       " '_name',\n",
       " '_parent',\n",
       " '_reset_cache',\n",
       " '_validate',\n",
       " 'add_categories',\n",
       " 'as_ordered',\n",
       " 'as_unordered',\n",
       " 'categories',\n",
       " 'codes',\n",
       " 'ordered',\n",
       " 'remove_categories',\n",
       " 'remove_unused_categories',\n",
       " 'rename_categories',\n",
       " 'reorder_categories',\n",
       " 'set_categories']"
      ]
     },
     "execution_count": 26,
     "metadata": {},
     "output_type": "execute_result"
    }
   ],
   "source": [
    "dir(df_slimmer_cols.pt_cat.cat)"
   ]
  },
  {
   "cell_type": "code",
   "execution_count": 27,
   "metadata": {},
   "outputs": [
    {
     "data": {
      "text/plain": [
       "Index(['D', 'F', 'O', 'S', 'T'], dtype='object')"
      ]
     },
     "execution_count": 27,
     "metadata": {},
     "output_type": "execute_result"
    }
   ],
   "source": [
    "df_slimmer_cols.pt_cat.cat.categories"
   ]
  },
  {
   "cell_type": "code",
   "execution_count": 28,
   "metadata": {},
   "outputs": [
    {
     "data": {
      "text/plain": [
       "25836871    0\n",
       "25836872    3\n",
       "25836873    4\n",
       "25836874    0\n",
       "25836875    0\n",
       "dtype: int8"
      ]
     },
     "execution_count": 28,
     "metadata": {},
     "output_type": "execute_result"
    }
   ],
   "source": [
    "df_slimmer_cols.pt_cat.cat.codes.tail()"
   ]
  },
  {
   "cell_type": "code",
   "execution_count": 29,
   "metadata": {},
   "outputs": [
    {
     "data": {
      "text/html": [
       "<div>\n",
       "<style scoped>\n",
       "    .dataframe tbody tr th:only-of-type {\n",
       "        vertical-align: middle;\n",
       "    }\n",
       "\n",
       "    .dataframe tbody tr th {\n",
       "        vertical-align: top;\n",
       "    }\n",
       "\n",
       "    .dataframe thead th {\n",
       "        text-align: right;\n",
       "    }\n",
       "</style>\n",
       "<table border=\"1\" class=\"dataframe\">\n",
       "  <thead>\n",
       "    <tr style=\"text-align: right;\">\n",
       "      <th></th>\n",
       "      <th>county_cat</th>\n",
       "      <th>pt_cat</th>\n",
       "      <th>date_cat</th>\n",
       "      <th>price_i32</th>\n",
       "    </tr>\n",
       "  </thead>\n",
       "  <tbody>\n",
       "    <tr>\n",
       "      <th>25836871</th>\n",
       "      <td>KENT</td>\n",
       "      <td>D</td>\n",
       "      <td>2021-01-20</td>\n",
       "      <td>492500</td>\n",
       "    </tr>\n",
       "    <tr>\n",
       "      <th>25836872</th>\n",
       "      <td>KENT</td>\n",
       "      <td>S</td>\n",
       "      <td>2021-01-07</td>\n",
       "      <td>425000</td>\n",
       "    </tr>\n",
       "    <tr>\n",
       "      <th>25836873</th>\n",
       "      <td>KENT</td>\n",
       "      <td>T</td>\n",
       "      <td>2021-01-07</td>\n",
       "      <td>425000</td>\n",
       "    </tr>\n",
       "    <tr>\n",
       "      <th>25836874</th>\n",
       "      <td>KENT</td>\n",
       "      <td>D</td>\n",
       "      <td>2021-01-08</td>\n",
       "      <td>620000</td>\n",
       "    </tr>\n",
       "    <tr>\n",
       "      <th>25836875</th>\n",
       "      <td>KENT</td>\n",
       "      <td>D</td>\n",
       "      <td>2021-01-04</td>\n",
       "      <td>430000</td>\n",
       "    </tr>\n",
       "  </tbody>\n",
       "</table>\n",
       "</div>"
      ],
      "text/plain": [
       "         county_cat pt_cat   date_cat  price_i32\n",
       "25836871       KENT      D 2021-01-20     492500\n",
       "25836872       KENT      S 2021-01-07     425000\n",
       "25836873       KENT      T 2021-01-07     425000\n",
       "25836874       KENT      D 2021-01-08     620000\n",
       "25836875       KENT      D 2021-01-04     430000"
      ]
     },
     "execution_count": 29,
     "metadata": {},
     "output_type": "execute_result"
    }
   ],
   "source": [
    "df_slimmer_cols.tail()"
   ]
  },
  {
   "cell_type": "code",
   "execution_count": 81,
   "metadata": {},
   "outputs": [
    {
     "data": {
      "text/plain": [
       "1995"
      ]
     },
     "execution_count": 81,
     "metadata": {},
     "output_type": "execute_result"
    }
   ],
   "source": [
    "df_slimmer_cols.iloc[0]['date_cat'].year"
   ]
  },
  {
   "cell_type": "code",
   "execution_count": 30,
   "metadata": {},
   "outputs": [],
   "source": [
    "#fig, ax = plt.subplots()\n",
    "#res = df_slimmer_cols.query(\"date_cat.dt.year<2020\").date_cat.dt.year.value_counts().sort_index()\n",
    "#res.plot(kind=\"bar\", ax=ax)"
   ]
  },
  {
   "cell_type": "code",
   "execution_count": 31,
   "metadata": {},
   "outputs": [],
   "source": [
    "#fig, ax = plt.subplots()\n",
    "#res = df_slimmer_cols.query(\"date_cat.dt.year==2020\").date_cat.dt.month.value_counts().sort_index()\n",
    "#res.plot(kind=\"bar\", ax=ax)\n",
    "#ax.set(title='Monthly sales for 2020\\nNote circa 3 month reporting lag\\nLockdown in March');"
   ]
  },
  {
   "cell_type": "markdown",
   "metadata": {},
   "source": [
    "## groupby pt year"
   ]
  },
  {
   "cell_type": "code",
   "execution_count": 32,
   "metadata": {},
   "outputs": [],
   "source": [
    "df['year'] = df.date.dt.year"
   ]
  },
  {
   "cell_type": "code",
   "execution_count": 33,
   "metadata": {},
   "outputs": [],
   "source": [
    "gpby = df.groupby(['year', 'pt'])\n",
    "nbr_sales_per_year = gpby.size()\n",
    "# (T)erraced, (S)emi, (D)etached, (F)lat/appartment, (O)ther"
   ]
  },
  {
   "cell_type": "code",
   "execution_count": 34,
   "metadata": {},
   "outputs": [],
   "source": [
    "# sort by approx display order\n",
    "sorted_index = nbr_sales_per_year.unstack().mean().sort_values(ascending=False).index\n",
    "nbr_sales_per_year = nbr_sales_per_year.unstack().T.loc[sorted_index].T\n",
    "nbr_sales_per_year.index.name=\"Year\""
   ]
  },
  {
   "cell_type": "code",
   "execution_count": 35,
   "metadata": {},
   "outputs": [],
   "source": [
    "nbr_sales_per_year = nbr_sales_per_year.rename(columns={'T': 'Terraced', 'S': 'Semi', 'D': 'Detached', 'F': 'Flat', 'O': 'Other'})"
   ]
  },
  {
   "cell_type": "code",
   "execution_count": 36,
   "metadata": {},
   "outputs": [
    {
     "data": {
      "image/png": "[encoded data removed]",
      "text/plain": [
       "<Figure size 432x288 with 1 Axes>"
      ]
     },
     "metadata": {
      "needs_background": "light"
     },
     "output_type": "display_data"
    }
   ],
   "source": [
    "import matplotlib.pyplot as plt\n",
    "\n",
    "fig, ax = plt.subplots()\n",
    "nbr_sales_per_year.plot(ax=ax, marker='o')\n",
    "ax.set_title(\"House types total sales by year\\nNote the global 'Great Recession' of 2007-2009\")\n",
    "ax.spines['top'].set_visible(False)\n",
    "ax.spines['right'].set_visible(False)\n",
    "ax.grid(axis='y') # horizontal grid lines only\n",
    "import matplotlib as mpl\n",
    "ax.get_yaxis().set_major_formatter(mpl.ticker.FuncFormatter(lambda x, p: format(int(x), ',')))\n",
    "ax.set_ylabel(\"Number of sales\");\n",
    "ax.axvline(2007, color='grey', linestyle='--')\n",
    "ax.axvline(2009, color='grey', linestyle='--')\n",
    "#ax.legend(frameon=False)\n",
    "plt.legend(frameon=True, loc='lower left') ;"
   ]
  },
  {
   "cell_type": "markdown",
   "metadata": {},
   "source": [
    "# Paon"
   ]
  },
  {
   "cell_type": "code",
   "execution_count": 37,
   "metadata": {},
   "outputs": [
    {
     "name": "stdout",
     "output_type": "stream",
     "text": [
      "CPU times: user 19.7 s, sys: 1.07 s, total: 20.8 s\n",
      "Wall time: 20.7 s\n"
     ]
    }
   ],
   "source": [
    "def c(item):\n",
    "    try:\n",
    "        # could be \"Severn Court\" or \"22\" or missing\n",
    "        return int(item)\n",
    "    except ValueError:\n",
    "        return np.NaN\n",
    "    \n",
    "%time df['paon_nbr'] = df['paon'].apply(c).astype('Int64')"
   ]
  },
  {
   "cell_type": "code",
   "execution_count": 38,
   "metadata": {},
   "outputs": [
    {
     "data": {
      "text/plain": [
       "1    643555\n",
       "2    642951\n",
       "3    636834\n",
       "Name: paon_nbr, dtype: Int64"
      ]
     },
     "execution_count": 38,
     "metadata": {},
     "output_type": "execute_result"
    }
   ],
   "source": [
    "df['paon_nbr'].value_counts()[:3]"
   ]
  },
  {
   "cell_type": "code",
   "execution_count": 39,
   "metadata": {},
   "outputs": [
    {
     "data": {
      "text/plain": [
       "1"
      ]
     },
     "execution_count": 39,
     "metadata": {},
     "output_type": "execute_result"
    }
   ],
   "source": [
    "df['paon_nbr'].value_counts().loc[0]"
   ]
  },
  {
   "cell_type": "code",
   "execution_count": 40,
   "metadata": {},
   "outputs": [
    {
     "data": {
      "text/plain": [
       "count    2.126299e+07\n",
       "mean     4.554896e+01\n",
       "std      7.524908e+01\n",
       "min      0.000000e+00\n",
       "25%      1.000000e+01\n",
       "50%      2.400000e+01\n",
       "75%      5.200000e+01\n",
       "max      9.156000e+03\n",
       "Name: paon_nbr, dtype: float64"
      ]
     },
     "execution_count": 40,
     "metadata": {},
     "output_type": "execute_result"
    }
   ],
   "source": [
    "df['paon_nbr'].describe()"
   ]
  },
  {
   "cell_type": "code",
   "execution_count": 41,
   "metadata": {},
   "outputs": [
    {
     "data": {
      "image/png": "[encoded data removed]",
      "text/plain": [
       "<Figure size 432x288 with 1 Axes>"
      ]
     },
     "metadata": {
      "needs_background": "light"
     },
     "output_type": "display_data"
    }
   ],
   "source": [
    "ax = df['paon_nbr'].value_counts(dropna=False).sort_index()[0:30].plot(kind='bar')\n",
    "\n",
    "ax.get_yaxis().set_major_formatter(mpl.ticker.FuncFormatter(lambda x, p: format(int(x), ',')))\n",
    "ax.set_ylabel(\"Count of house numbers\");\n",
    "ax.set_title(\"House number frequency\\nNote 'Unlucky 13' and 1 instance of house number 0!\")\n",
    "ax.spines['top'].set_visible(False)\n",
    "ax.spines['right'].set_visible(False)\n",
    "ax.grid(axis='y') # horizontal grid lines only"
   ]
  },
  {
   "cell_type": "code",
   "execution_count": 42,
   "metadata": {},
   "outputs": [
    {
     "data": {
      "text/plain": [
       "NaN    4,573,886\n",
       "1        643,555\n",
       "2        642,951\n",
       "3        636,834\n",
       "4        616,227\n",
       "Name: paon_nbr, dtype: object"
      ]
     },
     "execution_count": 42,
     "metadata": {},
     "output_type": "execute_result"
    }
   ],
   "source": [
    "# Count numbers and\n",
    "# add pretty formatting for\n",
    "# NaN for all non-number entries\n",
    "df['paon_nbr'].\\\n",
    "value_counts(dropna=False)[:5]\\\n",
    ".apply(lambda s: f\"{s:,}\") "
   ]
  },
  {
   "cell_type": "markdown",
   "metadata": {},
   "source": [
    "# Math speed"
   ]
  },
  {
   "cell_type": "code",
   "execution_count": 43,
   "metadata": {},
   "outputs": [
    {
     "name": "stdout",
     "output_type": "stream",
     "text": [
      "35.4 ms ± 875 µs per loop (mean ± std. dev. of 7 runs, 10 loops each)\n"
     ]
    }
   ],
   "source": [
    "# no useful speedup on int\n",
    "pd.options.compute.use_bottleneck=False\n",
    "pd.options.compute.use_numexpr=False\n",
    "%timeit df.price.mean()"
   ]
  },
  {
   "cell_type": "code",
   "execution_count": null,
   "metadata": {},
   "outputs": [],
   "source": []
  },
  {
   "cell_type": "code",
   "execution_count": 44,
   "metadata": {},
   "outputs": [
    {
     "name": "stdout",
     "output_type": "stream",
     "text": [
      "47.4 ms ± 1.03 ms per loop (mean ± std. dev. of 7 runs, 10 loops each)\n"
     ]
    }
   ],
   "source": [
    "pd.options.compute.use_bottleneck=True\n",
    "%timeit df.price.mean()"
   ]
  },
  {
   "cell_type": "code",
   "execution_count": 45,
   "metadata": {},
   "outputs": [
    {
     "name": "stdout",
     "output_type": "stream",
     "text": [
      "36.1 ms ± 693 µs per loop (mean ± std. dev. of 7 runs, 10 loops each)\n"
     ]
    }
   ],
   "source": [
    "%timeit df.price.to_numpy().mean()"
   ]
  },
  {
   "cell_type": "code",
   "execution_count": 46,
   "metadata": {},
   "outputs": [
    {
     "name": "stdout",
     "output_type": "stream",
     "text": [
      "36 ms ± 1.31 ms per loop (mean ± std. dev. of 7 runs, 10 loops each)\n"
     ]
    }
   ],
   "source": [
    "%timeit np.nanmean(df.price.to_numpy())"
   ]
  },
  {
   "cell_type": "code",
   "execution_count": 47,
   "metadata": {},
   "outputs": [],
   "source": [
    "assert df['price'].dtype == 'int64'\n",
    "df['price_f64'] = df.price.astype('float64')\n",
    "assert (df.price == df.price_f64).all()\n",
    "assert (df.price_f64.isnull() == False).all()"
   ]
  },
  {
   "cell_type": "code",
   "execution_count": 48,
   "metadata": {},
   "outputs": [
    {
     "name": "stdout",
     "output_type": "stream",
     "text": [
      "67.4 ms ± 591 µs per loop (mean ± std. dev. of 7 runs, 10 loops each)\n"
     ]
    }
   ],
   "source": [
    "# affects float, much less for int\n",
    "pd.options.compute.use_bottleneck=False\n",
    "%timeit df.price_f64.mean()"
   ]
  },
  {
   "cell_type": "code",
   "execution_count": 49,
   "metadata": {},
   "outputs": [
    {
     "name": "stdout",
     "output_type": "stream",
     "text": [
      "48.8 ms ± 2.03 ms per loop (mean ± std. dev. of 7 runs, 10 loops each)\n"
     ]
    }
   ],
   "source": [
    "pd.options.compute.use_bottleneck=True\n",
    "%timeit df.price_f64.mean()"
   ]
  },
  {
   "cell_type": "code",
   "execution_count": 50,
   "metadata": {},
   "outputs": [
    {
     "name": "stdout",
     "output_type": "stream",
     "text": [
      "19 ms ± 4.08 ms per loop (mean ± std. dev. of 7 runs, 10 loops each)\n"
     ]
    }
   ],
   "source": [
    "%timeit df.price_f64.to_numpy().mean()"
   ]
  },
  {
   "cell_type": "code",
   "execution_count": 51,
   "metadata": {},
   "outputs": [
    {
     "name": "stdout",
     "output_type": "stream",
     "text": [
      "167 ms ± 23.6 ms per loop (mean ± std. dev. of 7 runs, 1 loop each)\n"
     ]
    }
   ],
   "source": [
    "%timeit np.nanmean(df.price_f64.to_numpy())"
   ]
  },
  {
   "cell_type": "code",
   "execution_count": 52,
   "metadata": {},
   "outputs": [],
   "source": [
    "assert np.isnan(np.mean(   np.array([np.nan, 1, 2, 3])))\n",
    "assert   2.0 == np.nanmean(np.array([np.nan, 1, 2, 3]))"
   ]
  },
  {
   "cell_type": "code",
   "execution_count": null,
   "metadata": {},
   "outputs": [],
   "source": []
  },
  {
   "cell_type": "code",
   "execution_count": null,
   "metadata": {},
   "outputs": [],
   "source": []
  },
  {
   "cell_type": "code",
   "execution_count": null,
   "metadata": {},
   "outputs": [],
   "source": []
  },
  {
   "cell_type": "markdown",
   "metadata": {},
   "source": [
    "# GroupBy apply on larger groups is slower than precalculating the logic and doing simpler groupby"
   ]
  },
  {
   "cell_type": "code",
   "execution_count": 53,
   "metadata": {},
   "outputs": [
    {
     "data": {
      "text/plain": [
       "'3,693,118,607'"
      ]
     },
     "execution_count": 53,
     "metadata": {},
     "output_type": "execute_result"
    }
   ],
   "source": [
    "f\"{df_few_cols.memory_usage(deep=True).sum():,}\""
   ]
  },
  {
   "cell_type": "code",
   "execution_count": null,
   "metadata": {},
   "outputs": [],
   "source": []
  },
  {
   "cell_type": "code",
   "execution_count": 54,
   "metadata": {},
   "outputs": [],
   "source": [
    "def count_large(ser):\n",
    "    \"\"\"Expensive sales as a percentage\"\"\"\n",
    "    return (ser > 500_000).sum() / ser.shape[0]"
   ]
  },
  {
   "cell_type": "code",
   "execution_count": 93,
   "metadata": {},
   "outputs": [
    {
     "name": "stdout",
     "output_type": "stream",
     "text": [
      "CPU times: user 3.41 s, sys: 1.35 s, total: 4.76 s\n",
      "Wall time: 4.77 s\n"
     ]
    },
    {
     "data": {
      "text/plain": [
       "county\n",
       "WINDSOR AND MAIDENHEAD                 17.8%\n",
       "SURREY                                 15.3%\n",
       "GREATER LONDON                         15.1%\n",
       "BOURNEMOUTH, CHRISTCHURCH AND POOLE    13.3%\n",
       "BUCKINGHAMSHIRE                        12.9%\n",
       "                                       ...  \n",
       "MID GLAMORGAN                           0.0%\n",
       "DYFED                                   0.0%\n",
       "HUMBERSIDE                              0.0%\n",
       "GWENT                                   0.0%\n",
       "CLWYD                                   0.0%\n",
       "Name: price, Length: 128, dtype: object"
      ]
     },
     "execution_count": 93,
     "metadata": {},
     "output_type": "execute_result"
    }
   ],
   "source": [
    "%%time\n",
    "\n",
    "result = df_few_cols.groupby('county')['price'].apply(count_large)\n",
    "result.sort_values(ascending=False).apply(lambda s: f\"{s*100:0.1f}%\")"
   ]
  },
  {
   "cell_type": "code",
   "execution_count": 56,
   "metadata": {},
   "outputs": [],
   "source": []
  },
  {
   "cell_type": "code",
   "execution_count": 91,
   "metadata": {},
   "outputs": [
    {
     "data": {
      "text/html": [
       "<div>\n",
       "<style scoped>\n",
       "    .dataframe tbody tr th:only-of-type {\n",
       "        vertical-align: middle;\n",
       "    }\n",
       "\n",
       "    .dataframe tbody tr th {\n",
       "        vertical-align: top;\n",
       "    }\n",
       "\n",
       "    .dataframe thead th {\n",
       "        text-align: right;\n",
       "    }\n",
       "</style>\n",
       "<table border=\"1\" class=\"dataframe\">\n",
       "  <thead>\n",
       "    <tr style=\"text-align: right;\">\n",
       "      <th></th>\n",
       "      <th>sum</th>\n",
       "      <th>size</th>\n",
       "    </tr>\n",
       "    <tr>\n",
       "      <th>county</th>\n",
       "      <th></th>\n",
       "      <th></th>\n",
       "    </tr>\n",
       "  </thead>\n",
       "  <tbody>\n",
       "    <tr>\n",
       "      <th>AVON</th>\n",
       "      <td>4</td>\n",
       "      <td>16435</td>\n",
       "    </tr>\n",
       "    <tr>\n",
       "      <th>BATH AND NORTH EAST SOMERSET</th>\n",
       "      <td>6820</td>\n",
       "      <td>80803</td>\n",
       "    </tr>\n",
       "    <tr>\n",
       "      <th>BEDFORD</th>\n",
       "      <td>1999</td>\n",
       "      <td>34104</td>\n",
       "    </tr>\n",
       "    <tr>\n",
       "      <th>BEDFORDSHIRE</th>\n",
       "      <td>967</td>\n",
       "      <td>129278</td>\n",
       "    </tr>\n",
       "    <tr>\n",
       "      <th>BERKSHIRE</th>\n",
       "      <td>6</td>\n",
       "      <td>9248</td>\n",
       "    </tr>\n",
       "    <tr>\n",
       "      <th>...</th>\n",
       "      <td>...</td>\n",
       "      <td>...</td>\n",
       "    </tr>\n",
       "    <tr>\n",
       "      <th>WOKINGHAM</th>\n",
       "      <td>8228</td>\n",
       "      <td>81882</td>\n",
       "    </tr>\n",
       "    <tr>\n",
       "      <th>WORCESTERSHIRE</th>\n",
       "      <td>7262</td>\n",
       "      <td>270845</td>\n",
       "    </tr>\n",
       "    <tr>\n",
       "      <th>WREKIN</th>\n",
       "      <td>477</td>\n",
       "      <td>68864</td>\n",
       "    </tr>\n",
       "    <tr>\n",
       "      <th>WREXHAM</th>\n",
       "      <td>333</td>\n",
       "      <td>45584</td>\n",
       "    </tr>\n",
       "    <tr>\n",
       "      <th>YORK</th>\n",
       "      <td>1917</td>\n",
       "      <td>96335</td>\n",
       "    </tr>\n",
       "  </tbody>\n",
       "</table>\n",
       "<p>128 rows × 2 columns</p>\n",
       "</div>"
      ],
      "text/plain": [
       "                               sum    size\n",
       "county                                    \n",
       "AVON                             4   16435\n",
       "BATH AND NORTH EAST SOMERSET  6820   80803\n",
       "BEDFORD                       1999   34104\n",
       "BEDFORDSHIRE                   967  129278\n",
       "BERKSHIRE                        6    9248\n",
       "...                            ...     ...\n",
       "WOKINGHAM                     8228   81882\n",
       "WORCESTERSHIRE                7262  270845\n",
       "WREKIN                         477   68864\n",
       "WREXHAM                        333   45584\n",
       "YORK                          1917   96335\n",
       "\n",
       "[128 rows x 2 columns]"
      ]
     },
     "execution_count": 91,
     "metadata": {},
     "output_type": "execute_result"
    }
   ],
   "source": [
    "df_few_cols_copy = df_few_cols.copy()\n",
    "df_few_cols_copy['price_large'] = df_few_cols_copy.price > 500_000\n",
    "df_few_cols_copy.groupby('county')['price_large'].agg(['sum', 'size'])"
   ]
  },
  {
   "cell_type": "code",
   "execution_count": 92,
   "metadata": {},
   "outputs": [
    {
     "name": "stdout",
     "output_type": "stream",
     "text": [
      "CPU times: user 2.49 s, sys: 877 ms, total: 3.37 s\n",
      "Wall time: 3.37 s\n"
     ]
    },
    {
     "data": {
      "text/plain": [
       "county\n",
       "WINDSOR AND MAIDENHEAD                 17.8%\n",
       "SURREY                                 15.3%\n",
       "GREATER LONDON                         15.1%\n",
       "BOURNEMOUTH, CHRISTCHURCH AND POOLE    13.3%\n",
       "BUCKINGHAMSHIRE                        12.9%\n",
       "                                       ...  \n",
       "MID GLAMORGAN                           0.0%\n",
       "DYFED                                   0.0%\n",
       "HUMBERSIDE                              0.0%\n",
       "GWENT                                   0.0%\n",
       "CLWYD                                   0.0%\n",
       "Length: 128, dtype: object"
      ]
     },
     "execution_count": 92,
     "metadata": {},
     "output_type": "execute_result"
    }
   ],
   "source": [
    "%%time\n",
    "\n",
    "df_few_cols_copy['price_large'] = df_few_cols_copy.price > 500_000\n",
    "gpby_result = df_few_cols_copy.groupby('county')['price_large'].agg(['sum', 'size'])\n",
    "result = gpby_result['sum'] / gpby_result['size'] # calculate Series of percentages\n",
    "result.sort_values(ascending=False).apply(lambda s: f\"{s*100:0.1f}%\")"
   ]
  },
  {
   "cell_type": "code",
   "execution_count": 99,
   "metadata": {},
   "outputs": [
    {
     "data": {
      "text/plain": [
       "(128, pandas.core.groupby.generic.SeriesGroupBy)"
      ]
     },
     "execution_count": 99,
     "metadata": {},
     "output_type": "execute_result"
    }
   ],
   "source": [
    "gpby = df_few_cols_copy.groupby('county')['price_large']\n",
    "gpby.ngroups, type(gpby)"
   ]
  },
  {
   "cell_type": "code",
   "execution_count": 61,
   "metadata": {},
   "outputs": [
    {
     "data": {
      "text/plain": [
       "['AVON',\n",
       " 'BATH AND NORTH EAST SOMERSET',\n",
       " 'BEDFORD',\n",
       " 'BEDFORDSHIRE',\n",
       " 'BERKSHIRE',\n",
       " 'BLACKBURN WITH DARWEN',\n",
       " 'BLACKPOOL',\n",
       " 'BLAENAU GWENT',\n",
       " 'BOURNEMOUTH',\n",
       " 'BOURNEMOUTH, CHRISTCHURCH AND POOLE']"
      ]
     },
     "execution_count": 61,
     "metadata": {},
     "output_type": "execute_result"
    }
   ],
   "source": [
    "list(gpby.groups.keys())[:10]"
   ]
  },
  {
   "cell_type": "code",
   "execution_count": 101,
   "metadata": {
    "scrolled": false
   },
   "outputs": [
    {
     "data": {
      "text/plain": [
       "['__annotations__',\n",
       " '__class__',\n",
       " '__class_getitem__',\n",
       " '__delattr__',\n",
       " '__dict__',\n",
       " '__dir__',\n",
       " '__doc__',\n",
       " '__eq__',\n",
       " '__format__',\n",
       " '__ge__',\n",
       " '__getattr__',\n",
       " '__getattribute__',\n",
       " '__getitem__',\n",
       " '__gt__',\n",
       " '__hash__',\n",
       " '__init__',\n",
       " '__init_subclass__',\n",
       " '__iter__',\n",
       " '__le__',\n",
       " '__len__',\n",
       " '__lt__',\n",
       " '__module__',\n",
       " '__ne__',\n",
       " '__new__',\n",
       " '__orig_bases__',\n",
       " '__parameters__',\n",
       " '__reduce__',\n",
       " '__reduce_ex__',\n",
       " '__repr__',\n",
       " '__setattr__',\n",
       " '__sizeof__',\n",
       " '__slots__',\n",
       " '__str__',\n",
       " '__subclasshook__',\n",
       " '__weakref__',\n",
       " '_accessors',\n",
       " '_agg_examples_doc',\n",
       " '_agg_general',\n",
       " '_aggregate_multiple_funcs',\n",
       " '_aggregate_named',\n",
       " '_aggregate_with_numba',\n",
       " '_apply_allowlist',\n",
       " '_apply_filter',\n",
       " '_apply_to_column_groupbys',\n",
       " '_assure_grouper',\n",
       " '_bool_agg',\n",
       " '_builtin_table',\n",
       " '_concat_objects',\n",
       " '_constructor',\n",
       " '_cumcount_array',\n",
       " '_cython_agg_general',\n",
       " '_cython_table',\n",
       " '_cython_transform',\n",
       " '_dir_additions',\n",
       " '_dir_deletions',\n",
       " '_fill',\n",
       " '_get_cython_func',\n",
       " '_get_cythonized_result',\n",
       " '_get_index',\n",
       " '_get_indices',\n",
       " '_gotitem',\n",
       " '_group_selection',\n",
       " '_hidden_attrs',\n",
       " '_internal_names',\n",
       " '_internal_names_set',\n",
       " '_is_builtin_func',\n",
       " '_is_protocol',\n",
       " '_iterate_slices',\n",
       " '_make_wrapper',\n",
       " '_obj_1d_constructor',\n",
       " '_obj_with_exclusions',\n",
       " '_python_agg_general',\n",
       " '_python_apply_general',\n",
       " '_reindex_output',\n",
       " '_reset_cache',\n",
       " '_reset_group_selection',\n",
       " '_selected_obj',\n",
       " '_selection',\n",
       " '_selection_list',\n",
       " '_selection_name',\n",
       " '_set_group_selection',\n",
       " '_set_result_index_ordered',\n",
       " '_transform_fast',\n",
       " '_transform_general',\n",
       " '_transform_with_numba',\n",
       " '_try_aggregate_string_function',\n",
       " '_wrap_aggregated_output',\n",
       " '_wrap_applied_output',\n",
       " '_wrap_series_output',\n",
       " '_wrap_transformed_output',\n",
       " 'agg',\n",
       " 'aggregate',\n",
       " 'all',\n",
       " 'any',\n",
       " 'apply',\n",
       " 'backfill',\n",
       " 'bfill',\n",
       " 'corr',\n",
       " 'count',\n",
       " 'cov',\n",
       " 'cumcount',\n",
       " 'cummax',\n",
       " 'cummin',\n",
       " 'cumprod',\n",
       " 'cumsum',\n",
       " 'describe',\n",
       " 'diff',\n",
       " 'dtype',\n",
       " 'ewm',\n",
       " 'expanding',\n",
       " 'ffill',\n",
       " 'fillna',\n",
       " 'filter',\n",
       " 'first',\n",
       " 'get_group',\n",
       " 'groups',\n",
       " 'head',\n",
       " 'hist',\n",
       " 'idxmax',\n",
       " 'idxmin',\n",
       " 'indices',\n",
       " 'is_monotonic_decreasing',\n",
       " 'is_monotonic_increasing',\n",
       " 'last',\n",
       " 'mad',\n",
       " 'max',\n",
       " 'mean',\n",
       " 'median',\n",
       " 'min',\n",
       " 'ndim',\n",
       " 'ngroup',\n",
       " 'ngroups',\n",
       " 'nlargest',\n",
       " 'nsmallest',\n",
       " 'nth',\n",
       " 'nunique',\n",
       " 'ohlc',\n",
       " 'pad',\n",
       " 'pct_change',\n",
       " 'pipe',\n",
       " 'plot',\n",
       " 'prod',\n",
       " 'quantile',\n",
       " 'rank',\n",
       " 'resample',\n",
       " 'rolling',\n",
       " 'sample',\n",
       " 'sem',\n",
       " 'shift',\n",
       " 'size',\n",
       " 'skew',\n",
       " 'std',\n",
       " 'sum',\n",
       " 'tail',\n",
       " 'take',\n",
       " 'transform',\n",
       " 'tshift',\n",
       " 'unique',\n",
       " 'value_counts',\n",
       " 'var']"
      ]
     },
     "execution_count": 101,
     "metadata": {},
     "output_type": "execute_result"
    }
   ],
   "source": [
    "dir(gpby)"
   ]
  },
  {
   "cell_type": "code",
   "execution_count": 62,
   "metadata": {},
   "outputs": [
    {
     "data": {
      "text/plain": [
       "Int64Index([    5628,     7301,    25242,    26167,    27316,    35277,\n",
       "               36654,    41439,    62903,    69139,\n",
       "            ...\n",
       "            25823257, 25823569, 25823573, 25823582, 25823586, 25823589,\n",
       "            25834180, 25834187, 25834295, 25836599],\n",
       "           dtype='int64', length=80803)"
      ]
     },
     "execution_count": 62,
     "metadata": {},
     "output_type": "execute_result"
    }
   ],
   "source": [
    "gpby.groups['BATH AND NORTH EAST SOMERSET']"
   ]
  },
  {
   "cell_type": "code",
   "execution_count": 63,
   "metadata": {},
   "outputs": [
    {
     "name": "stdout",
     "output_type": "stream",
     "text": [
      "First item is 5628\n"
     ]
    },
    {
     "data": {
      "text/plain": [
       "county    BATH AND NORTH EAST SOMERSET\n",
       "pt                                   S\n",
       "date               1995-10-27 00:00:00\n",
       "price                            62000\n",
       "Name: 5628, dtype: object"
      ]
     },
     "execution_count": 63,
     "metadata": {},
     "output_type": "execute_result"
    }
   ],
   "source": [
    "# get 0th item from this group and\n",
    "# check against original DataFrame\n",
    "item0 = gpby.groups['BATH AND NORTH EAST SOMERSET'][0]\n",
    "print(f\"First item is {item0}\")\n",
    "df_few_cols.loc[item0]"
   ]
  },
  {
   "cell_type": "markdown",
   "metadata": {},
   "source": [
    "# Rolling simple example"
   ]
  },
  {
   "cell_type": "code",
   "execution_count": 64,
   "metadata": {},
   "outputs": [],
   "source": [
    "# Pandas example\n",
    "# https://pandas.pydata.org/pandas-docs/stable/\n",
    "#  user_guide/window.html#window-numba-engine   \n",
    "data = pd.Series(range(1_000_000))\n",
    "roll = data.rolling(10)\n",
    "def f(x):\n",
    "    return np.sum(x) + 5"
   ]
  },
  {
   "cell_type": "code",
   "execution_count": 65,
   "metadata": {},
   "outputs": [
    {
     "name": "stdout",
     "output_type": "stream",
     "text": [
      "5.27 s ± 144 ms per loop (mean ± std. dev. of 7 runs, 1 loop each)\n"
     ]
    }
   ],
   "source": [
    "%timeit roll.apply(f, engine='cython', raw=True)"
   ]
  },
  {
   "cell_type": "code",
   "execution_count": 67,
   "metadata": {},
   "outputs": [
    {
     "name": "stdout",
     "output_type": "stream",
     "text": [
      "963 ms ± 0 ns per loop (mean ± std. dev. of 1 run, 1 loop each)\n"
     ]
    }
   ],
   "source": [
    "%timeit -r 1 -n 1 roll.apply(f, engine='numba', raw=True)"
   ]
  },
  {
   "cell_type": "code",
   "execution_count": 68,
   "metadata": {},
   "outputs": [
    {
     "name": "stdout",
     "output_type": "stream",
     "text": [
      "134 ms ± 644 µs per loop (mean ± std. dev. of 7 runs, 10 loops each)\n"
     ]
    }
   ],
   "source": [
    "# cache benefit for Numba\n",
    "%timeit roll.apply(f, engine='numba', raw=True)"
   ]
  },
  {
   "cell_type": "code",
   "execution_count": 69,
   "metadata": {},
   "outputs": [
    {
     "name": "stdout",
     "output_type": "stream",
     "text": [
      "136 ms ± 2.11 ms per loop (mean ± std. dev. of 7 runs, 10 loops each)\n"
     ]
    }
   ],
   "source": [
    "engine_kwargs = {'nopython': True, 'nogil': False, 'parallel': True}\n",
    "%timeit roll.apply(f, engine='numba', raw=True, engine_kwargs=engine_kwargs)"
   ]
  },
  {
   "cell_type": "code",
   "execution_count": 66,
   "metadata": {},
   "outputs": [
    {
     "name": "stdout",
     "output_type": "stream",
     "text": [
      "4.97 s ± 187 ms per loop (mean ± std. dev. of 7 runs, 1 loop each)\n"
     ]
    }
   ],
   "source": [
    "# no obvious cache benefit for Cython\n",
    "%timeit roll.apply(f, engine='cython', raw=True)"
   ]
  },
  {
   "cell_type": "code",
   "execution_count": 70,
   "metadata": {},
   "outputs": [],
   "source": [
    "#%timeit \n",
    "# also very slow\n",
    "# roll.apply(f, engine='cython', raw=False)"
   ]
  },
  {
   "cell_type": "code",
   "execution_count": 71,
   "metadata": {},
   "outputs": [],
   "source": [
    "# BEWARE - the default is so slow I can't time it!\n",
    "# %timeit roll.apply(f)"
   ]
  },
  {
   "cell_type": "markdown",
   "metadata": {},
   "source": [
    "# Rolling with our data\n",
    "\n",
    "15s numba vs 55s without for 2020-10-01 with 169k items\n",
    "\n",
    "With 405k items and 2020-06-01, 2min no numba vs 34s with numba\n",
    "\n",
    "Note that small windows with few (1000s?) items get a big win, big windows with 100k items seem to take forever no matter what we try\n"
   ]
  },
  {
   "cell_type": "code",
   "execution_count": 72,
   "metadata": {},
   "outputs": [
    {
     "name": "stdout",
     "output_type": "stream",
     "text": [
      "405,439 rows for recent items with date as index\n"
     ]
    },
    {
     "data": {
      "text/html": [
       "<div>\n",
       "<style scoped>\n",
       "    .dataframe tbody tr th:only-of-type {\n",
       "        vertical-align: middle;\n",
       "    }\n",
       "\n",
       "    .dataframe tbody tr th {\n",
       "        vertical-align: top;\n",
       "    }\n",
       "\n",
       "    .dataframe thead th {\n",
       "        text-align: right;\n",
       "    }\n",
       "</style>\n",
       "<table border=\"1\" class=\"dataframe\">\n",
       "  <thead>\n",
       "    <tr style=\"text-align: right;\">\n",
       "      <th></th>\n",
       "      <th>county</th>\n",
       "      <th>pt</th>\n",
       "      <th>price</th>\n",
       "    </tr>\n",
       "    <tr>\n",
       "      <th>date</th>\n",
       "      <th></th>\n",
       "      <th></th>\n",
       "      <th></th>\n",
       "    </tr>\n",
       "  </thead>\n",
       "  <tbody>\n",
       "    <tr>\n",
       "      <th>2020-06-02</th>\n",
       "      <td>GREATER MANCHESTER</td>\n",
       "      <td>T</td>\n",
       "      <td>100000</td>\n",
       "    </tr>\n",
       "    <tr>\n",
       "      <th>2020-06-02</th>\n",
       "      <td>NEWPORT</td>\n",
       "      <td>F</td>\n",
       "      <td>150000</td>\n",
       "    </tr>\n",
       "    <tr>\n",
       "      <th>2020-06-02</th>\n",
       "      <td>HERTFORDSHIRE</td>\n",
       "      <td>S</td>\n",
       "      <td>405000</td>\n",
       "    </tr>\n",
       "    <tr>\n",
       "      <th>2020-06-02</th>\n",
       "      <td>CENTRAL BEDFORDSHIRE</td>\n",
       "      <td>T</td>\n",
       "      <td>230000</td>\n",
       "    </tr>\n",
       "    <tr>\n",
       "      <th>2020-06-02</th>\n",
       "      <td>BOURNEMOUTH, CHRISTCHURCH AND POOLE</td>\n",
       "      <td>D</td>\n",
       "      <td>265000</td>\n",
       "    </tr>\n",
       "  </tbody>\n",
       "</table>\n",
       "</div>"
      ],
      "text/plain": [
       "                                         county pt   price\n",
       "date                                                      \n",
       "2020-06-02                   GREATER MANCHESTER  T  100000\n",
       "2020-06-02                              NEWPORT  F  150000\n",
       "2020-06-02                        HERTFORDSHIRE  S  405000\n",
       "2020-06-02                 CENTRAL BEDFORDSHIRE  T  230000\n",
       "2020-06-02  BOURNEMOUTH, CHRISTCHURCH AND POOLE  D  265000"
      ]
     },
     "execution_count": 72,
     "metadata": {},
     "output_type": "execute_result"
    }
   ],
   "source": [
    "def conservative_estimate(ser):\n",
    "    \"\"\"With few samples take min price, else take median\"\"\"\n",
    "    if ser.shape[0] > 10:\n",
    "        return np.median(ser)\n",
    "    else:\n",
    "        return np.min(ser)\n",
    "    \n",
    "df_recent_dt = df_few_cols.set_index('date').\\\n",
    "               query('index > \"2020-06-01\"').\\\n",
    "               sort_index(ascending=True) # required for rolling\n",
    "print(f\"{df_recent_dt.shape[0]:,} rows for recent items with date as index\")\n",
    "df_recent_dt.head()"
   ]
  },
  {
   "cell_type": "code",
   "execution_count": 73,
   "metadata": {},
   "outputs": [
    {
     "data": {
      "text/plain": [
       "pandas.core.window.rolling.Rolling"
      ]
     },
     "execution_count": 73,
     "metadata": {},
     "output_type": "execute_result"
    }
   ],
   "source": [
    "rolling = df_recent_dt.rolling(window=\"3d\")\n",
    "type(rolling)"
   ]
  },
  {
   "cell_type": "code",
   "execution_count": 74,
   "metadata": {},
   "outputs": [
    {
     "name": "stdout",
     "output_type": "stream",
     "text": [
      "CPU times: user 2min 14s, sys: 13.1 ms, total: 2min 14s\n",
      "Wall time: 2min 14s\n"
     ]
    },
    {
     "data": {
      "text/plain": [
       "date\n",
       "2020-06-02    100000.0\n",
       "2020-06-02    100000.0\n",
       "2020-06-02    100000.0\n",
       "2020-06-02    100000.0\n",
       "2020-06-02    100000.0\n",
       "                ...   \n",
       "2021-01-25    122500.0\n",
       "2021-01-25    122500.0\n",
       "2021-01-26    122500.0\n",
       "2021-01-26     45000.0\n",
       "2021-01-28     45000.0\n",
       "Name: price, Length: 405439, dtype: float64"
      ]
     },
     "execution_count": 74,
     "metadata": {},
     "output_type": "execute_result"
    }
   ],
   "source": [
    "%%time\n",
    "rolling['price'].apply(conservative_estimate)"
   ]
  },
  {
   "cell_type": "code",
   "execution_count": 75,
   "metadata": {},
   "outputs": [
    {
     "name": "stdout",
     "output_type": "stream",
     "text": [
      "CPU times: user 37.3 s, sys: 69.5 ms, total: 37.4 s\n",
      "Wall time: 37.3 s\n"
     ]
    },
    {
     "data": {
      "text/plain": [
       "date\n",
       "2020-06-02    100000.0\n",
       "2020-06-02    100000.0\n",
       "2020-06-02    100000.0\n",
       "2020-06-02    100000.0\n",
       "2020-06-02    100000.0\n",
       "                ...   \n",
       "2021-01-25    122500.0\n",
       "2021-01-25    122500.0\n",
       "2021-01-26    122500.0\n",
       "2021-01-26     45000.0\n",
       "2021-01-28     45000.0\n",
       "Name: price, Length: 405439, dtype: float64"
      ]
     },
     "execution_count": 75,
     "metadata": {},
     "output_type": "execute_result"
    }
   ],
   "source": [
    "%%time\n",
    "rolling['price'].apply(conservative_estimate, \n",
    "                       engine='numba', \n",
    "                       raw=True)"
   ]
  },
  {
   "cell_type": "code",
   "execution_count": 76,
   "metadata": {},
   "outputs": [
    {
     "name": "stdout",
     "output_type": "stream",
     "text": [
      "CPU times: user 35.4 s, sys: 135 ms, total: 35.5 s\n",
      "Wall time: 35.2 s\n"
     ]
    },
    {
     "data": {
      "text/plain": [
       "date\n",
       "2020-06-02    100000.0\n",
       "2020-06-02    100000.0\n",
       "2020-06-02    100000.0\n",
       "2020-06-02    100000.0\n",
       "2020-06-02    100000.0\n",
       "                ...   \n",
       "2021-01-25    122500.0\n",
       "2021-01-25    122500.0\n",
       "2021-01-26    122500.0\n",
       "2021-01-26     45000.0\n",
       "2021-01-28     45000.0\n",
       "Name: price, Length: 405439, dtype: float64"
      ]
     },
     "execution_count": 76,
     "metadata": {},
     "output_type": "execute_result"
    }
   ],
   "source": [
    "%%time\n",
    "# no benefit to allowing parallel\n",
    "engine_kwargs = {'nopython': True, \n",
    "                 'nogil': True, \n",
    "                 'parallel': True}\n",
    "rolling['price'].apply(conservative_estimate, \n",
    "                       engine='numba', \n",
    "                       raw=True, \n",
    "                       engine_kwargs=engine_kwargs)"
   ]
  },
  {
   "cell_type": "code",
   "execution_count": 77,
   "metadata": {},
   "outputs": [
    {
     "ename": "ZeroDivisionError",
     "evalue": "division by zero",
     "output_type": "error",
     "traceback": [
      "\u001b[0;31m---------------------------------------------------------------------------\u001b[0m",
      "\u001b[0;31mZeroDivisionError\u001b[0m                         Traceback (most recent call last)",
      "\u001b[0;32m<ipython-input-77-9e1622b385b6>\u001b[0m in \u001b[0;36m<module>\u001b[0;34m\u001b[0m\n\u001b[0;32m----> 1\u001b[0;31m \u001b[0;36m1\u001b[0m\u001b[0;34m/\u001b[0m\u001b[0;36m0\u001b[0m\u001b[0;34m\u001b[0m\u001b[0;34m\u001b[0m\u001b[0m\n\u001b[0m",
      "\u001b[0;31mZeroDivisionError\u001b[0m: division by zero"
     ]
    }
   ],
   "source": [
    "1/0"
   ]
  },
  {
   "cell_type": "markdown",
   "metadata": {},
   "source": [
    "# Experiment\n",
    "\n",
    "try rolling"
   ]
  },
  {
   "cell_type": "code",
   "execution_count": null,
   "metadata": {},
   "outputs": [],
   "source": [
    "df_recent_dt = df_recent.set_index('date')"
   ]
  },
  {
   "cell_type": "code",
   "execution_count": null,
   "metadata": {},
   "outputs": [],
   "source": [
    "df_recent_dt.rolling(window=\"30d\")['price'].mean()"
   ]
  },
  {
   "cell_type": "code",
   "execution_count": null,
   "metadata": {},
   "outputs": [],
   "source": [
    "df_recent_dt.rolling(window=\"30d\")['price'].mean().plot()"
   ]
  },
  {
   "cell_type": "code",
   "execution_count": null,
   "metadata": {},
   "outputs": [],
   "source": [
    "def nbr_in_window(ser):\n",
    "    #return np.percentile(ser.to_numpy(), interpolation='lower', q=50)\n",
    "    return ser.shape[0]\n",
    "\n",
    "# with shape it is up to 70k items from 2020-11-01\n",
    "df_very_recent = df_recent_dt.query('index > \"2020-11-01\"')\n",
    "df_res = df_very_recent.rolling(window=\"30d\")['price'].apply(nbr_in_window)\n",
    "df_res.plot()"
   ]
  },
  {
   "cell_type": "code",
   "execution_count": null,
   "metadata": {},
   "outputs": [],
   "source": [
    "df_very_recent.shape, df_res.shape"
   ]
  },
  {
   "cell_type": "code",
   "execution_count": null,
   "metadata": {},
   "outputs": [],
   "source": [
    "df_res.tail(10)"
   ]
  },
  {
   "cell_type": "code",
   "execution_count": null,
   "metadata": {},
   "outputs": [],
   "source": [
    "df_recent_dt.query('index > \"2019-01-01\"').resample(rule='1D').size().plot()"
   ]
  },
  {
   "cell_type": "code",
   "execution_count": null,
   "metadata": {},
   "outputs": [],
   "source": [
    "df_very_recent.resample(rule=\"1D\").size().plot()"
   ]
  },
  {
   "cell_type": "code",
   "execution_count": null,
   "metadata": {},
   "outputs": [],
   "source": [
    "def nbr_in_window(ser):\n",
    "    #return np.percentile(ser.to_numpy(), interpolation='lower', q=50)\n",
    "    return ser.shape[0]\n",
    "\n",
    "# with shape it is up to 70k items from 2020-11-01\n",
    "df_very_recent = df_recent_dt.query('index > \"2020-09-01\"')\n",
    "#df_res.plot()"
   ]
  },
  {
   "cell_type": "code",
   "execution_count": null,
   "metadata": {},
   "outputs": [],
   "source": [
    "%%time \n",
    "\n",
    "df_res = df_very_recent.rolling(window=\"30d\")['price'].apply(nbr_in_window)"
   ]
  },
  {
   "cell_type": "code",
   "execution_count": null,
   "metadata": {},
   "outputs": [],
   "source": [
    "%%time \n",
    "\n",
    "df_res = df_very_recent.rolling(window=\"30d\")['price'].apply(nbr_in_window, engine='numba', raw=True)"
   ]
  },
  {
   "cell_type": "code",
   "execution_count": null,
   "metadata": {},
   "outputs": [],
   "source": [
    "%%time \n",
    "\n",
    "engine_kwargs = {'nopython': True, 'nogil': True, 'parallel': True}\n",
    "\n",
    "df_res = df_very_recent.rolling(window=\"30d\")['price'].apply(nbr_in_window, engine='numba', raw=True, engine_kwargs=engine_kwargs)"
   ]
  },
  {
   "cell_type": "code",
   "execution_count": null,
   "metadata": {},
   "outputs": [],
   "source": [
    "%%time \n",
    "\n",
    "df_res = df_very_recent.rolling(window=\"30d\")['price'].count()"
   ]
  },
  {
   "cell_type": "code",
   "execution_count": null,
   "metadata": {},
   "outputs": [],
   "source": [
    "def conservative_estimate(ser):\n",
    "    #return np.percentile(ser.to_numpy(), interpolation='lower', q=50)\n",
    "    if ser.shape[0] > 10:\n",
    "        return np.median(ser)\n",
    "    else:\n",
    "        return np.min(ser)\n",
    "\n",
    "# with shape it is up to 70k items from 2020-11-01\n",
    "df_recent_dt.query('index > \"2020-11-01\"').rolling(window=\"30d\")['price'].apply(conservative_estimate, engine='numba', raw=True)"
   ]
  },
  {
   "cell_type": "code",
   "execution_count": null,
   "metadata": {},
   "outputs": [],
   "source": [
    "%%time\n",
    "\n",
    "df_recent_dt.query('index > \"2020-11-01\"').rolling(window=\"30d\")['price'].apply(conservative_estimate, engine='numba', raw=True)"
   ]
  },
  {
   "cell_type": "code",
   "execution_count": null,
   "metadata": {},
   "outputs": [],
   "source": [
    "%%time \n",
    "\n",
    "df_recent_dt.query('index > \"2020-11-01\"').rolling(window=\"30d\")['price'].apply(conservative_estimate, raw=True)"
   ]
  },
  {
   "cell_type": "code",
   "execution_count": null,
   "metadata": {},
   "outputs": [],
   "source": [
    "from numba import njit\n",
    "\n",
    "conservative_estimate_njit = njit(conservative_estimate)\n",
    "\n",
    "df_recent_dt.query('index > \"2020-11-01\"').rolling(window=\"30d\")['price'].apply(conservative_estimate_njit, engine='numba', raw=True)"
   ]
  },
  {
   "cell_type": "code",
   "execution_count": null,
   "metadata": {},
   "outputs": [],
   "source": [
    "rolling = df_recent_dt.query('index > \"2020-11-01\"').rolling(window=\"30d\")['price']\n"
   ]
  },
  {
   "cell_type": "code",
   "execution_count": null,
   "metadata": {},
   "outputs": [],
   "source": [
    "rolling.apply(conservative_estimate_njit, engine='numba', raw=True)"
   ]
  },
  {
   "cell_type": "code",
   "execution_count": null,
   "metadata": {},
   "outputs": [],
   "source": [
    "%%time\n",
    "\n",
    "# 15s numba vs 55s without\n",
    "def conservative_estimate(ser):\n",
    "    #return np.percentile(ser.to_numpy(), interpolation='lower', q=50)\n",
    "    if ser.shape[0] > 10:\n",
    "        return np.median(ser)\n",
    "    else:\n",
    "        return np.min(ser)\n",
    "\n",
    "# with shape it is up to 70k items from 2020-11-01\n",
    "df_recent_dt.query('index > \"2020-10-01\"').rolling(window=\"3d\")['price'].apply(conservative_estimate, engine='numba', raw=True)"
   ]
  },
  {
   "cell_type": "code",
   "execution_count": null,
   "metadata": {},
   "outputs": [],
   "source": [
    "%%time\n",
    "df_recent_dt.query('index > \"2020-10-01\"').rolling(window=\"3d\")['price'].apply(conservative_estimate)"
   ]
  },
  {
   "cell_type": "code",
   "execution_count": null,
   "metadata": {},
   "outputs": [],
   "source": [
    "rolling = df_recent_dt.query('index > \"2020-10-01\"').rolling(window=\"3d\")['price']"
   ]
  },
  {
   "cell_type": "code",
   "execution_count": null,
   "metadata": {},
   "outputs": [],
   "source": [
    "df_recent_dt.query('index == \"2020-11-27\"').shape"
   ]
  },
  {
   "cell_type": "code",
   "execution_count": null,
   "metadata": {},
   "outputs": [],
   "source": [
    "# want 95% percentile if size is large, else"
   ]
  },
  {
   "cell_type": "code",
   "execution_count": null,
   "metadata": {},
   "outputs": [],
   "source": []
  }
 ],
 "metadata": {
  "kernelspec": {
   "display_name": "Python 3",
   "language": "python",
   "name": "python3"
  },
  "language_info": {
   "codemirror_mode": {
    "name": "ipython",
    "version": 3
   },
   "file_extension": ".py",
   "mimetype": "text/x-python",
   "name": "python",
   "nbconvert_exporter": "python",
   "pygments_lexer": "ipython3",
   "version": "3.8.8"
  }
 },
 "nbformat": 4,
 "nbformat_minor": 4
}
